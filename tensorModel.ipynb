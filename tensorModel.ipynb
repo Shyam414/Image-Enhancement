{
 "cells": [
  {
   "cell_type": "code",
   "execution_count": null,
   "metadata": {},
   "outputs": [],
   "source": [
    "import tensorflow as tf\n",
    "from tensorflow.keras.layers import Conv2D, Input\n",
    "from tensorflow.keras.models import Model\n",
    "from tensorflow.keras.models import Sequential\n",
    "from tensorflow.keras.layers import Dense, Flatten, InputLayer"
   ]
  },
  {
   "cell_type": "code",
   "execution_count": null,
   "metadata": {},
   "outputs": [],
   "source": [
    "def SRCNN():\n",
    "    input_img = Input(shape=(256, 256, 3))  \n",
    "    x = Conv2D(64, (9, 9), activation='relu', padding='same')(input_img)\n",
    "    x = Conv2D(32, (1, 1), activation='relu', padding='same')(x)\n",
    "    output_img = Conv2D(3, (5, 5), activation='linear', padding='same')(x)\n",
    "\n",
    "    model = Model(inputs=input_img, outputs=output_img)\n",
    "    return model\n",
    "\n",
    "model = SRCNN()\n",
    "model.compile(optimizer='adam', loss='mean_squared_error')\n",
    "model.summary()\n",
    "\n",
    "\n",
    "#model.save('srcnn_model.h5')"
   ]
  }
 ],
 "metadata": {
  "language_info": {
   "name": "python"
  }
 },
 "nbformat": 4,
 "nbformat_minor": 2
}
