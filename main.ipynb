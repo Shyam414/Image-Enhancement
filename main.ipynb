{
 "cells": [
  {
   "cell_type": "code",
   "execution_count": null,
   "metadata": {},
   "outputs": [],
   "source": [
    "from normalize import process_image\n",
    "from plot import plot_image\n",
    "import numpy as np\n",
    "from tensorflow.keras.models import load_model"
   ]
  },
  {
   "cell_type": "code",
   "execution_count": null,
   "metadata": {},
   "outputs": [],
   "source": [
    "\n",
    "low_quality_images = [\"1.jpg\", \"2.jpg\", \"3.jpg\",\"4.jpg\",\"5.jpg\"]  \n",
    "high_quality_images = [\"1h.png\", \"2h.png\", \"3h.png\",\"4h.png\",\"5h.png\"]"
   ]
  },
  {
   "cell_type": "code",
   "execution_count": null,
   "metadata": {},
   "outputs": [],
   "source": [
    "x_train_list = []\n",
    "y_train_list = []\n",
    "\n",
    "for i in range(len(low_quality_images)):\n",
    "    processed_image =process_image(low_quality_images[i])\n",
    "    original_image = process_image(high_quality_images[i])\n",
    "    x_train_list.append(processed_image)\n",
    "    y_train_list.append(original_image)\n",
    "x_train = np.array(x_train_list)\n",
    "y_train = np.array(y_train_list)\n",
    "\n",
    "print(f\"x_train shape: {x_train.shape}\")\n",
    "print(f\"y_train shape: {y_train.shape}\")\n",
    "\n",
    "plot_image(x_train[1],y_train[1])"
   ]
  },
  {
   "cell_type": "code",
   "execution_count": null,
   "metadata": {},
   "outputs": [],
   "source": [
    "model = load_model('srcnn_model.h5')\n",
    "model.fit(x_train, y_train, epochs=10, batch_size=5)\n",
    "model.save('srcnn_model.h5')"
   ]
  },
  {
   "cell_type": "code",
   "execution_count": null,
   "metadata": {},
   "outputs": [],
   "source": [
    "test_image_path = \"2.jpg\"\n",
    "test_image = load_image(test_image_path)"
   ]
  },
  {
   "cell_type": "code",
   "execution_count": null,
   "metadata": {},
   "outputs": [],
   "source": [
    "\n",
    "processed_test_image = process_image(test_image_path)\n",
    "x_test = np.expand_dims(processed_test_image, axis=0)"
   ]
  },
  {
   "cell_type": "code",
   "execution_count": null,
   "metadata": {},
   "outputs": [],
   "source": [
    "enhanced_image = model.predict(x_test)\n",
    "\n",
    "plot_image(x_test,enhanced_image)\n"
   ]
  }
 ],
 "metadata": {
  "kernelspec": {
   "display_name": "Python 3",
   "language": "python",
   "name": "python3"
  },
  "language_info": {
   "codemirror_mode": {
    "name": "ipython",
    "version": 3
   },
   "file_extension": ".py",
   "mimetype": "text/x-python",
   "name": "python",
   "nbconvert_exporter": "python",
   "pygments_lexer": "ipython3",
   "version": "3.11.9"
  }
 },
 "nbformat": 4,
 "nbformat_minor": 2
}
